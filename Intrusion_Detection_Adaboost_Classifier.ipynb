{
  "nbformat": 4,
  "nbformat_minor": 0,
  "metadata": {
    "colab": {
      "name": "Intrusion Detection - Adaboost Classifier",
      "provenance": [],
      "collapsed_sections": []
    },
    "kernelspec": {
      "display_name": "Python 3",
      "name": "python3"
    },
    "language_info": {
      "name": "python"
    }
  },
  "cells": [
    {
      "cell_type": "code",
      "metadata": {
        "colab": {
          "base_uri": "https://localhost:8080/"
        },
        "id": "yRqqdAdqTRaW",
        "outputId": "aea253ca-ee02-4934-ea87-c64059539041"
      },
      "source": [
        "from google.colab import drive\n",
        "drive.mount('/content/drive')"
      ],
      "execution_count": null,
      "outputs": [
        {
          "output_type": "stream",
          "text": [
            "Mounted at /content/drive\n"
          ],
          "name": "stdout"
        }
      ]
    },
    {
      "cell_type": "code",
      "metadata": {
        "id": "7kbZDCykTzfS"
      },
      "source": [
        "!cp -av \"/content/drive/MyDrive/SIV Project Data\" \"/content/Project Data\""
      ],
      "execution_count": null,
      "outputs": []
    },
    {
      "cell_type": "code",
      "metadata": {
        "id": "3c2-_useY71Z"
      },
      "source": [
        "from google.colab import drive\n",
        "drive.flush_and_unmount()"
      ],
      "execution_count": null,
      "outputs": []
    },
    {
      "cell_type": "code",
      "metadata": {
        "id": "5hJFV3IO3pYP"
      },
      "source": [
        "import pandas as pd\n",
        "import numpy as np\n",
        "import seaborn as sns\n",
        "import warnings\n",
        "warnings.filterwarnings('ignore')\n",
        "import matplotlib.pyplot as plt\n",
        "%matplotlib inline\n",
        "\n",
        "def fillmissing(data):\n",
        "    for col in data.columns:\n",
        "        if data[col].isna().sum() > 0:\n",
        "            data[col].fillna(0, inplace=True)\n",
        "    return data\n",
        "\n",
        "def encode(data, columns_list):\n",
        "    data = pd.get_dummies(data, columns = columns_list)\n",
        "    return data\n",
        "\n",
        "def drop_columns(data, columns_list):\n",
        "    data = data.drop(columns_list, axis = 1)\n",
        "    return data\n",
        "\n",
        "def binarize_columns(data, columns_list):\n",
        "    for col in columns_list:\n",
        "        data[col] = data[col].astype(int)\n",
        "    return data\n",
        "\n",
        "def generate_ip_attribute(data):\n",
        "    temp = data['ip'].apply(lambda x: \".\".join(x.split('.')[:1]))\n",
        "    vc = temp.value_counts()\n",
        "    data['ip'] = temp.apply(lambda x: x if vc[x]>150 else \"other\")\n",
        "    return data\n",
        "\n",
        "def class_resampling(X, y):\n",
        "    from imblearn.over_sampling import RandomOverSampler\n",
        "\n",
        "    ros = RandomOverSampler(random_state=42)\n",
        "\n",
        "    # fit predictor and target variable\n",
        "    x_ros, y_ros = ros.fit_resample(X, y)\n",
        "\n",
        "    return x_ros, y_ros\n",
        "\n",
        "train_data = pd.read_csv('./cybersecurity_training.csv', delimiter=\"|\", header=[0])\n",
        "\n",
        "train_data = fillmissing(train_data)\n",
        "\n",
        "# for col in train_data.columns:\n",
        "#     print(col, train_data[col].dtype)\n",
        "\n",
        "binary_columns_list = [ 'n1', 'n2', 'n3', 'n4', 'n5', 'n6', 'n7', 'n8', 'n9', 'n10']\n",
        "useless_columns_list = ['client_code', 'alert_ids']\n",
        "one_hot_encode_columns_list = ['ip', 'categoryname', 'ipcategory_name', 'ipcategory_scope', 'parent_category', 'grandparent_category', 'weekday', 'dstipcategory_dominate', 'srcipcategory_dominate']\n",
        "\n",
        "# Adding new attribute ip_prefix\n",
        "train_data = generate_ip_attribute(train_data)\n",
        "\n",
        "train_data = encode(train_data, one_hot_encode_columns_list)\n",
        "train_data = drop_columns(train_data, useless_columns_list)\n",
        "train_data = binarize_columns(train_data, binary_columns_list)\n",
        "\n"
      ],
      "execution_count": null,
      "outputs": []
    },
    {
      "cell_type": "code",
      "metadata": {
        "colab": {
          "base_uri": "https://localhost:8080/",
          "height": 701
        },
        "id": "sbzRs6pJvbtL",
        "outputId": "85d8eaf0-9d0d-4105-d61c-a75dd2013d41"
      },
      "source": [
        "###   ADABOOST SOLUTION\n",
        "\n",
        "from sklearn.model_selection import train_test_split\n",
        "from sklearn.ensemble import AdaBoostClassifier\n",
        "from sklearn.ensemble import RandomForestClassifier\n",
        "from sklearn import metrics\n",
        "\n",
        "\n",
        "y = train_data['notified']\n",
        "X = train_data.drop('notified', axis=1)\n",
        "test_split_size = 0.3\n",
        "seed = 1011\n",
        "\n",
        "X_train, X_test, y_train, y_test = train_test_split(X, y, test_size=test_split_size, random_state=1010, shuffle=True, stratify = y)\n",
        "\n",
        "print(y_train.value_counts())\n",
        "\n",
        "X_train, y_train = class_resampling(X_train, y_train)\n",
        "\n",
        "print(np.unique(y_train, return_counts=True))\n",
        "\n",
        "base_estimator = RandomForestClassifier(n_estimators=2500, max_depth=80, random_state=0)\n",
        "model =  AdaBoostClassifier(base_estimator=base_estimator, algorithm=\"SAMME.R\", n_estimators=100, learning_rate=0.5)\n",
        "model.fit(X_train, y_train)\n",
        "\n",
        "predictions = model.predict_proba(X_test)\n",
        "y_pred = model.predict(X_test)\n",
        "\n",
        "print(\"ROC AUC score\", round(metrics.roc_auc_score(y_test, predictions[:,1]),6))\n",
        "print(\"Average precision score\", round(metrics.average_precision_score(y_test, predictions[:,1]),6))\n",
        "\n",
        "print(\"Mean Squared error\", round(metrics.mean_squared_error(y_test, y_pred),6))\n",
        "print(\"Macro F1 score\", round(metrics.f1_score(y_test, y_pred, average='macro'),6))\n",
        "print(\"Micro F1 score\", round(metrics.f1_score(y_test, y_pred, average='micro'),6))\n",
        "\n",
        "metrics.plot_roc_curve(model, X_test, y_test)  \n",
        "plt.savefig(\"ada_roc.png\") \n",
        "\n",
        "metrics.plot_confusion_matrix(model, X_test, y_test, cmap=plt.cm.Blues, normalize='true')  \n",
        "plt.savefig(\"ada_confussion.png\")"
      ],
      "execution_count": null,
      "outputs": [
        {
          "output_type": "stream",
          "text": [
            "0    26005\n",
            "1     1593\n",
            "Name: notified, dtype: int64\n",
            "(array([0, 1]), array([26005, 26005]))\n",
            "ROC AUC score 0.922177\n",
            "Average precision score 0.467349\n",
            "Mean Squared error 0.052329\n",
            "Macro F1 score 0.638263\n",
            "Micro F1 score 0.947671\n"
          ],
          "name": "stdout"
        },
        {
          "output_type": "display_data",
          "data": {
            "image/png": "[encoded data removed]",
            "text/plain": [
              "<Figure size 432x288 with 1 Axes>"
            ]
          },
          "metadata": {
            "tags": [],
            "needs_background": "light"
          }
        },
        {
          "output_type": "display_data",
          "data": {
            "image/png": "[encoded data removed]",
            "text/plain": [
              "<Figure size 432x288 with 2 Axes>"
            ]
          },
          "metadata": {
            "tags": [],
            "needs_background": "light"
          }
        }
      ]
    },
    {
      "cell_type": "code",
      "metadata": {
        "colab": {
          "background_save": true
        },
        "id": "6CTJw01ldVGg"
      },
      "source": [
        "### GRID SEARCH\n",
        "\n",
        "from sklearn.model_selection import GridSearchCV\n",
        "\n",
        "params = {\n",
        "    'base_estimator__n_estimators': [2000, 2500, 3000, 3500, 4000],\n",
        "    'base_estimator__max_depth': [40,50,60,70,80],\n",
        "    'n_estimators': [1,10,50,100]\n",
        "}\n",
        "base_estimator = RandomForestClassifier(random_state=0)\n",
        "model = AdaBoostClassifier(base_estimator = base_estimator, algorithm=\"SAMME.R\")\n",
        "gridF = GridSearchCV(model, params, cv = 3, verbose = 6, n_jobs = 2, scoring='roc_auc', refit=True)\n",
        "bestF = gridF.fit(X_train,y_train)\n",
        "\n",
        "print(\"Best score: \",bestF.best_score_)\n",
        "print(\"Best params: \", bestF.best_params_)\n",
        "\n",
        "predictions = bestF.predict_proba(X_test)\n",
        "metrics.roc_auc_score(y_test, predictions[:,1])"
      ],
      "execution_count": null,
      "outputs": []
    }
  ]
}