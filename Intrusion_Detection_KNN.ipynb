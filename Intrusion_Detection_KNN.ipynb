{
  "nbformat": 4,
  "nbformat_minor": 0,
  "metadata": {
    "colab": {
      "name": "Intrusion Detection - KNN",
      "provenance": [],
      "collapsed_sections": []
    },
    "kernelspec": {
      "name": "python3",
      "display_name": "Python 3"
    },
    "language_info": {
      "name": "python"
    }
  },
  "cells": [
    {
      "cell_type": "code",
      "metadata": {
        "id": "yRqqdAdqTRaW"
      },
      "source": [
        "from google.colab import drive\n",
        "drive.mount('/content/drive')"
      ],
      "execution_count": null,
      "outputs": []
    },
    {
      "cell_type": "code",
      "metadata": {
        "id": "7kbZDCykTzfS"
      },
      "source": [
        "!cp -av \"/content/drive/MyDrive/SIV Project Data\" \"/content/Project Data\""
      ],
      "execution_count": null,
      "outputs": []
    },
    {
      "cell_type": "code",
      "metadata": {
        "id": "3c2-_useY71Z"
      },
      "source": [
        "from google.colab import drive\n",
        "drive.flush_and_unmount()"
      ],
      "execution_count": null,
      "outputs": []
    },
    {
      "cell_type": "code",
      "metadata": {
        "id": "5hJFV3IO3pYP"
      },
      "source": [
        "import pandas as pd\n",
        "import numpy as np\n",
        "import seaborn as sns\n",
        "import matplotlib.pyplot as plt\n",
        "%matplotlib inline\n",
        "\n",
        "def fillmissing(data):\n",
        "    for col in data.columns:\n",
        "        if data[col].isna().sum() > 0:\n",
        "            data[col].fillna(0, inplace=True)\n",
        "    return data\n",
        "\n",
        "def encode(data, columns_list):\n",
        "    data = pd.get_dummies(data, columns = columns_list)\n",
        "    return data\n",
        "\n",
        "def drop_columns(data, columns_list):\n",
        "    data = data.drop(columns_list, axis = 1)\n",
        "    return data\n",
        "\n",
        "def binarize_columns(data, columns_list):\n",
        "    for col in columns_list:\n",
        "        data[col] = data[col].astype(int)\n",
        "    return data\n",
        "\n",
        "def generate_ip_attribute(data):\n",
        "    temp = data['ip'].apply(lambda x: \".\".join(x.split('.')[:1]))\n",
        "    vc = temp.value_counts()\n",
        "    data['ip'] = temp.apply(lambda x: x if vc[x]>150 else \"other\")\n",
        "    return data\n",
        "\n",
        "def class_resampling(X, y):\n",
        "    from imblearn.over_sampling import RandomOverSampler\n",
        "\n",
        "    ros = RandomOverSampler(random_state=42)\n",
        "\n",
        "    # fit predictor and target variable\n",
        "    x_ros, y_ros = ros.fit_resample(X, y)\n",
        "\n",
        "    return x_ros, y_ros\n",
        "\n",
        "train_data = pd.read_csv('./cybersecurity_training.csv', delimiter=\"|\", header=[0])\n",
        "\n",
        "train_data = fillmissing(train_data)\n",
        "\n",
        "# for col in train_data.columns:\n",
        "#     print(col, train_data[col].dtype)\n",
        "\n",
        "binary_columns_list = [ 'n1', 'n2', 'n3', 'n4', 'n5', 'n6', 'n7', 'n8', 'n9', 'n10']\n",
        "useless_columns_list = ['client_code', 'alert_ids']\n",
        "one_hot_encode_columns_list = ['ip', 'categoryname', 'ipcategory_name', 'ipcategory_scope', 'parent_category', 'grandparent_category', 'weekday', 'dstipcategory_dominate', 'srcipcategory_dominate']\n",
        "\n",
        "# Adding new attribute ip_prefix\n",
        "train_data = generate_ip_attribute(train_data)\n",
        "\n",
        "train_data = encode(train_data, one_hot_encode_columns_list)\n",
        "train_data = drop_columns(train_data, useless_columns_list)\n",
        "train_data = binarize_columns(train_data, binary_columns_list)\n",
        "\n"
      ],
      "execution_count": null,
      "outputs": []
    },
    {
      "cell_type": "code",
      "metadata": {
        "colab": {
          "base_uri": "https://localhost:8080/",
          "height": 756
        },
        "id": "sbzRs6pJvbtL",
        "outputId": "2a9df783-7a80-490a-8c76-2c53b3775560"
      },
      "source": [
        "###   KNN CLASSIFIER\n",
        "\n",
        "from sklearn.neighbors import KNeighborsClassifier\n",
        "from sklearn.model_selection import train_test_split\n",
        "from sklearn import metrics\n",
        "\n",
        "y = train_data['notified']\n",
        "X = train_data.drop('notified', axis=1)\n",
        "test_split_size = 0.3\n",
        "seed = 1011\n",
        "\n",
        "X_train, X_test, y_train, y_test = train_test_split(X, y, test_size=test_split_size, random_state=1010, shuffle=True, stratify = y)\n",
        "\n",
        "X_train, y_train = class_resampling(X_train, y_train)\n",
        "\n",
        "model = KNeighborsClassifier(n_neighbors=20)\n",
        "model.fit(X_train,y_train)\n",
        "\n",
        "predictions = model.predict_proba(X_test)\n",
        "y_pred = model.predict(X_test)\n",
        "\n",
        "print(\"ROC AUC score\", round(metrics.roc_auc_score(y_test, predictions[:,1]),6))\n",
        "print(\"Average precision score\", round(metrics.average_precision_score(y_test, predictions[:,1]),6))\n",
        "\n",
        "print(\"Mean Squared error\", round(metrics.mean_squared_error(y_test, y_pred),6))\n",
        "print(\"Macro F1 score\", round(metrics.f1_score(y_test, y_pred, average='macro'),6))\n",
        "print(\"Micro F1 score\", round(metrics.f1_score(y_test, y_pred, average='micro'),6))\n",
        "\n",
        "metrics.plot_roc_curve(model, X_test, y_test)  \n",
        "plt.savefig(\"knn_roc.png\") \n",
        "\n",
        "metrics.plot_confusion_matrix(model, X_test, y_test, cmap=plt.cm.Blues, normalize='true')  \n",
        "plt.savefig(\"knn_confussion.png\")\n"
      ],
      "execution_count": null,
      "outputs": [
        {
          "output_type": "stream",
          "text": [
            "/usr/local/lib/python3.7/dist-packages/sklearn/externals/six.py:31: FutureWarning: The module is deprecated in version 0.21 and will be removed in version 0.23 since we've dropped support for Python 2.7. Please rely on the official version of six (https://pypi.org/project/six/).\n",
            "  \"(https://pypi.org/project/six/).\", FutureWarning)\n",
            "/usr/local/lib/python3.7/dist-packages/sklearn/utils/deprecation.py:144: FutureWarning: The sklearn.neighbors.base module is  deprecated in version 0.22 and will be removed in version 0.24. The corresponding classes / functions should instead be imported from sklearn.neighbors. Anything that cannot be imported from sklearn.neighbors is now part of the private API.\n",
            "  warnings.warn(message, FutureWarning)\n",
            "/usr/local/lib/python3.7/dist-packages/sklearn/utils/deprecation.py:87: FutureWarning: Function safe_indexing is deprecated; safe_indexing is deprecated in version 0.22 and will be removed in version 0.24.\n",
            "  warnings.warn(msg, category=FutureWarning)\n"
          ],
          "name": "stderr"
        },
        {
          "output_type": "stream",
          "text": [
            "ROC AUC score 0.720903\n",
            "Average precision score 0.12532\n",
            "Mean Squared error 0.329276\n",
            "Macro F1 score 0.491236\n",
            "Micro F1 score 0.670724\n"
          ],
          "name": "stdout"
        },
        {
          "output_type": "display_data",
          "data": {
            "image/png": "[encoded data removed]",
            "text/plain": [
              "<Figure size 432x288 with 1 Axes>"
            ]
          },
          "metadata": {
            "tags": [],
            "needs_background": "light"
          }
        },
        {
          "output_type": "display_data",
          "data": {
            "image/png": "[encoded data removed]",
            "text/plain": [
              "<Figure size 432x288 with 2 Axes>"
            ]
          },
          "metadata": {
            "tags": [],
            "needs_background": "light"
          }
        }
      ]
    }
  ]
}