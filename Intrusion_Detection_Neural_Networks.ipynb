{
  "nbformat": 4,
  "nbformat_minor": 0,
  "metadata": {
    "colab": {
      "name": "Intrusion Detection - Neural Networks",
      "provenance": [],
      "collapsed_sections": []
    },
    "kernelspec": {
      "name": "python3",
      "display_name": "Python 3"
    },
    "language_info": {
      "name": "python"
    }
  },
  "cells": [
    {
      "cell_type": "code",
      "metadata": {
        "colab": {
          "base_uri": "https://localhost:8080/"
        },
        "id": "yRqqdAdqTRaW",
        "outputId": "aea253ca-ee02-4934-ea87-c64059539041"
      },
      "source": [
        "from google.colab import drive\n",
        "drive.mount('/content/drive')"
      ],
      "execution_count": null,
      "outputs": [
        {
          "output_type": "stream",
          "text": [
            "Mounted at /content/drive\n"
          ],
          "name": "stdout"
        }
      ]
    },
    {
      "cell_type": "code",
      "metadata": {
        "id": "7kbZDCykTzfS"
      },
      "source": [
        "!cp -av \"/content/drive/MyDrive/SIV Project Data\" \"/content/Project Data\""
      ],
      "execution_count": null,
      "outputs": []
    },
    {
      "cell_type": "code",
      "metadata": {
        "id": "3c2-_useY71Z"
      },
      "source": [
        "from google.colab import drive\n",
        "drive.flush_and_unmount()"
      ],
      "execution_count": null,
      "outputs": []
    },
    {
      "cell_type": "code",
      "metadata": {
        "id": "5hJFV3IO3pYP"
      },
      "source": [
        "import pandas as pd\n",
        "import numpy as np\n",
        "import seaborn as sns\n",
        "import warnings\n",
        "warnings.filterwarnings('ignore')\n",
        "import matplotlib.pyplot as plt\n",
        "%matplotlib inline\n",
        "\n",
        "def fillmissing(data):\n",
        "    for col in data.columns:\n",
        "        if data[col].isna().sum() > 0:\n",
        "            data[col].fillna(0, inplace=True)\n",
        "    return data\n",
        "\n",
        "def encode(data, columns_list):\n",
        "    data = pd.get_dummies(data, columns = columns_list)\n",
        "    return data\n",
        "\n",
        "def drop_columns(data, columns_list):\n",
        "    data = data.drop(columns_list, axis = 1)\n",
        "    return data\n",
        "\n",
        "def binarize_columns(data, columns_list):\n",
        "    for col in columns_list:\n",
        "        data[col] = data[col].astype(int)\n",
        "    return data\n",
        "\n",
        "def generate_ip_attribute(data):\n",
        "    temp = data['ip'].apply(lambda x: \".\".join(x.split('.')[:1]))\n",
        "    vc = temp.value_counts()\n",
        "    data['ip'] = temp.apply(lambda x: x if vc[x]>150 else \"other\")\n",
        "    return data\n",
        "\n",
        "def class_resampling(X, y):\n",
        "    from imblearn.over_sampling import RandomOverSampler\n",
        "\n",
        "    ros = RandomOverSampler(random_state=42)\n",
        "\n",
        "    # fit predictor and target variable\n",
        "    x_ros, y_ros = ros.fit_resample(X, y)\n",
        "\n",
        "    return x_ros, y_ros\n",
        "\n",
        "train_data = pd.read_csv('./cybersecurity_training.csv', delimiter=\"|\", header=[0])\n",
        "\n",
        "train_data = fillmissing(train_data)\n",
        "\n",
        "# for col in train_data.columns:\n",
        "#     print(col, train_data[col].dtype)\n",
        "\n",
        "binary_columns_list = [ 'n1', 'n2', 'n3', 'n4', 'n5', 'n6', 'n7', 'n8', 'n9', 'n10']\n",
        "useless_columns_list = ['client_code', 'alert_ids']\n",
        "one_hot_encode_columns_list = ['ip', 'categoryname', 'ipcategory_name', 'ipcategory_scope', 'parent_category', 'grandparent_category', 'weekday', 'dstipcategory_dominate', 'srcipcategory_dominate']\n",
        "\n",
        "# Adding new attribute ip_prefix\n",
        "train_data = generate_ip_attribute(train_data)\n",
        "\n",
        "train_data = encode(train_data, one_hot_encode_columns_list)\n",
        "train_data = drop_columns(train_data, useless_columns_list)\n",
        "train_data = binarize_columns(train_data, binary_columns_list)\n",
        "\n"
      ],
      "execution_count": null,
      "outputs": []
    },
    {
      "cell_type": "code",
      "metadata": {
        "colab": {
          "base_uri": "https://localhost:8080/",
          "height": 701
        },
        "id": "sbzRs6pJvbtL",
        "outputId": "011381d0-bd7c-405b-992a-f3105892a522"
      },
      "source": [
        "###   NEURAL NETWORKS\n",
        "\n",
        "from sklearn.model_selection import train_test_split\n",
        "from sklearn.neural_network import MLPClassifier\n",
        "from sklearn import metrics\n",
        "\n",
        "y = train_data['notified']\n",
        "X = train_data.drop('notified', axis=1)\n",
        "test_split_size = 0.3\n",
        "seed = 1011\n",
        "\n",
        "X_train, X_test, y_train, y_test = train_test_split(X, y, test_size=test_split_size, random_state=1010, shuffle=True, stratify = y)\n",
        "\n",
        "print(y_train.value_counts())\n",
        "\n",
        "X_train, y_train = class_resampling(X_train, y_train)\n",
        "\n",
        "print(np.unique(y_train, return_counts=True))\n",
        "\n",
        "\n",
        "model = MLPClassifier(solver='adam', alpha=1e-4, hidden_layer_sizes=(10, 30, 10), random_state=seed, activation='relu', max_iter=1000, learning_rate= 'adaptive')\n",
        "model.fit(X_train, y_train)\n",
        "\n",
        "predictions = model.predict_proba(X_test)\n",
        "y_pred = model.predict(X_test)\n",
        "\n",
        "print(\"ROC AUC score\", round(metrics.roc_auc_score(y_test, predictions[:,1]),6))\n",
        "print(\"Average precision score\", round(metrics.average_precision_score(y_test, predictions[:,1]),6))\n",
        "\n",
        "print(\"Mean Squared error\", round(metrics.mean_squared_error(y_test, y_pred),6))\n",
        "print(\"Macro F1 score\", round(metrics.f1_score(y_test, y_pred, average='macro'),6))\n",
        "print(\"Micro F1 score\", round(metrics.f1_score(y_test, y_pred, average='micro'),6))\n",
        "\n",
        "metrics.plot_roc_curve(model, X_test, y_test)  \n",
        "plt.savefig(\"nn_roc.png\") \n",
        "\n",
        "metrics.plot_confusion_matrix(model, X_test, y_test, cmap=plt.cm.Blues, normalize='true')  \n",
        "plt.savefig(\"nn_confussion.png\")"
      ],
      "execution_count": null,
      "outputs": [
        {
          "output_type": "stream",
          "text": [
            "0    26005\n",
            "1     1593\n",
            "Name: notified, dtype: int64\n",
            "(array([0, 1]), array([26005, 26005]))\n",
            "ROC AUC score 0.760601\n",
            "Average precision score 0.195958\n",
            "Mean Squared error 0.352016\n",
            "Macro F1 score 0.48963\n",
            "Micro F1 score 0.647984\n"
          ],
          "name": "stdout"
        },
        {
          "output_type": "display_data",
          "data": {
            "image/png": "[encoded data removed]",
            "text/plain": [
              "<Figure size 432x288 with 1 Axes>"
            ]
          },
          "metadata": {
            "tags": [],
            "needs_background": "light"
          }
        },
        {
          "output_type": "display_data",
          "data": {
            "image/png": "[encoded data removed]",
            "text/plain": [
              "<Figure size 432x288 with 2 Axes>"
            ]
          },
          "metadata": {
            "tags": [],
            "needs_background": "light"
          }
        }
      ]
    },
    {
      "cell_type": "code",
      "metadata": {
        "colab": {
          "base_uri": "https://localhost:8080/"
        },
        "id": "NKBTWYDl574B",
        "outputId": "3e8ce873-f806-461e-bea8-019df4750518"
      },
      "source": [
        "from sklearn.model_selection import GridSearchCV\n",
        "\n",
        "mlp_gs = MLPClassifier(max_iter=100)\n",
        "parameter_space = {\n",
        "    'hidden_layer_sizes': [(10,30,10),(20,)],\n",
        "    'activation': ['tanh', 'relu'],\n",
        "    'solver': ['sgd', 'adam'],\n",
        "    'alpha': [0.0001, 0.05],\n",
        "    'learning_rate': ['constant','adaptive'],\n",
        "}\n",
        "\n",
        "clf = GridSearchCV(mlp_gs, parameter_space, n_jobs=-1, cv=5)\n",
        "clf.fit(X, y) # X is train samples and y is the corresponding labels\n",
        "\n",
        "print('Best parameters found:\\n', clf.best_params_)\n",
        "\n",
        "means = clf.cv_results_['mean_test_score']\n",
        "stds = clf.cv_results_['std_test_score']\n",
        "for mean, std, params in zip(means, stds, clf.cv_results_['params']):\n",
        "    print(\"%0.3f (+/-%0.03f) for %r\" % (mean, std * 2, params))\n",
        "\n",
        "y_true, y_pred = y_test , clf.predict(X_test)\n",
        "from sklearn.metrics import classification_report\n",
        "print('Results on the test set:')\n",
        "print(classification_report(y_true, y_pred))"
      ],
      "execution_count": null,
      "outputs": [
        {
          "output_type": "stream",
          "text": [
            "Best parameters found:\n",
            " {'activation': 'relu', 'alpha': 0.0001, 'hidden_layer_sizes': (10, 30, 10), 'learning_rate': 'adaptive', 'solver': 'adam'}\n",
            "0.942 (+/-0.000) for {'activation': 'tanh', 'alpha': 0.0001, 'hidden_layer_sizes': (10, 30, 10), 'learning_rate': 'constant', 'solver': 'sgd'}\n",
            "0.943 (+/-0.001) for {'activation': 'tanh', 'alpha': 0.0001, 'hidden_layer_sizes': (10, 30, 10), 'learning_rate': 'constant', 'solver': 'adam'}\n",
            "0.942 (+/-0.000) for {'activation': 'tanh', 'alpha': 0.0001, 'hidden_layer_sizes': (10, 30, 10), 'learning_rate': 'adaptive', 'solver': 'sgd'}\n",
            "0.942 (+/-0.001) for {'activation': 'tanh', 'alpha': 0.0001, 'hidden_layer_sizes': (10, 30, 10), 'learning_rate': 'adaptive', 'solver': 'adam'}\n",
            "0.942 (+/-0.000) for {'activation': 'tanh', 'alpha': 0.0001, 'hidden_layer_sizes': (20,), 'learning_rate': 'constant', 'solver': 'sgd'}\n",
            "0.943 (+/-0.001) for {'activation': 'tanh', 'alpha': 0.0001, 'hidden_layer_sizes': (20,), 'learning_rate': 'constant', 'solver': 'adam'}\n",
            "0.942 (+/-0.000) for {'activation': 'tanh', 'alpha': 0.0001, 'hidden_layer_sizes': (20,), 'learning_rate': 'adaptive', 'solver': 'sgd'}\n",
            "0.943 (+/-0.001) for {'activation': 'tanh', 'alpha': 0.0001, 'hidden_layer_sizes': (20,), 'learning_rate': 'adaptive', 'solver': 'adam'}\n",
            "0.942 (+/-0.000) for {'activation': 'tanh', 'alpha': 0.05, 'hidden_layer_sizes': (10, 30, 10), 'learning_rate': 'constant', 'solver': 'sgd'}\n",
            "0.943 (+/-0.002) for {'activation': 'tanh', 'alpha': 0.05, 'hidden_layer_sizes': (10, 30, 10), 'learning_rate': 'constant', 'solver': 'adam'}\n",
            "0.942 (+/-0.000) for {'activation': 'tanh', 'alpha': 0.05, 'hidden_layer_sizes': (10, 30, 10), 'learning_rate': 'adaptive', 'solver': 'sgd'}\n",
            "0.943 (+/-0.001) for {'activation': 'tanh', 'alpha': 0.05, 'hidden_layer_sizes': (10, 30, 10), 'learning_rate': 'adaptive', 'solver': 'adam'}\n",
            "0.942 (+/-0.000) for {'activation': 'tanh', 'alpha': 0.05, 'hidden_layer_sizes': (20,), 'learning_rate': 'constant', 'solver': 'sgd'}\n",
            "0.943 (+/-0.001) for {'activation': 'tanh', 'alpha': 0.05, 'hidden_layer_sizes': (20,), 'learning_rate': 'constant', 'solver': 'adam'}\n",
            "0.942 (+/-0.000) for {'activation': 'tanh', 'alpha': 0.05, 'hidden_layer_sizes': (20,), 'learning_rate': 'adaptive', 'solver': 'sgd'}\n",
            "0.943 (+/-0.001) for {'activation': 'tanh', 'alpha': 0.05, 'hidden_layer_sizes': (20,), 'learning_rate': 'adaptive', 'solver': 'adam'}\n",
            "0.942 (+/-0.000) for {'activation': 'relu', 'alpha': 0.0001, 'hidden_layer_sizes': (10, 30, 10), 'learning_rate': 'constant', 'solver': 'sgd'}\n",
            "0.940 (+/-0.012) for {'activation': 'relu', 'alpha': 0.0001, 'hidden_layer_sizes': (10, 30, 10), 'learning_rate': 'constant', 'solver': 'adam'}\n",
            "0.942 (+/-0.000) for {'activation': 'relu', 'alpha': 0.0001, 'hidden_layer_sizes': (10, 30, 10), 'learning_rate': 'adaptive', 'solver': 'sgd'}\n",
            "0.944 (+/-0.001) for {'activation': 'relu', 'alpha': 0.0001, 'hidden_layer_sizes': (10, 30, 10), 'learning_rate': 'adaptive', 'solver': 'adam'}\n",
            "0.942 (+/-0.000) for {'activation': 'relu', 'alpha': 0.0001, 'hidden_layer_sizes': (20,), 'learning_rate': 'constant', 'solver': 'sgd'}\n",
            "0.886 (+/-0.121) for {'activation': 'relu', 'alpha': 0.0001, 'hidden_layer_sizes': (20,), 'learning_rate': 'constant', 'solver': 'adam'}\n",
            "0.942 (+/-0.000) for {'activation': 'relu', 'alpha': 0.0001, 'hidden_layer_sizes': (20,), 'learning_rate': 'adaptive', 'solver': 'sgd'}\n",
            "0.881 (+/-0.139) for {'activation': 'relu', 'alpha': 0.0001, 'hidden_layer_sizes': (20,), 'learning_rate': 'adaptive', 'solver': 'adam'}\n",
            "0.942 (+/-0.000) for {'activation': 'relu', 'alpha': 0.05, 'hidden_layer_sizes': (10, 30, 10), 'learning_rate': 'constant', 'solver': 'sgd'}\n",
            "0.943 (+/-0.002) for {'activation': 'relu', 'alpha': 0.05, 'hidden_layer_sizes': (10, 30, 10), 'learning_rate': 'constant', 'solver': 'adam'}\n",
            "0.942 (+/-0.000) for {'activation': 'relu', 'alpha': 0.05, 'hidden_layer_sizes': (10, 30, 10), 'learning_rate': 'adaptive', 'solver': 'sgd'}\n",
            "0.943 (+/-0.001) for {'activation': 'relu', 'alpha': 0.05, 'hidden_layer_sizes': (10, 30, 10), 'learning_rate': 'adaptive', 'solver': 'adam'}\n",
            "0.942 (+/-0.000) for {'activation': 'relu', 'alpha': 0.05, 'hidden_layer_sizes': (20,), 'learning_rate': 'constant', 'solver': 'sgd'}\n",
            "0.911 (+/-0.105) for {'activation': 'relu', 'alpha': 0.05, 'hidden_layer_sizes': (20,), 'learning_rate': 'constant', 'solver': 'adam'}\n",
            "0.942 (+/-0.000) for {'activation': 'relu', 'alpha': 0.05, 'hidden_layer_sizes': (20,), 'learning_rate': 'adaptive', 'solver': 'sgd'}\n",
            "0.924 (+/-0.051) for {'activation': 'relu', 'alpha': 0.05, 'hidden_layer_sizes': (20,), 'learning_rate': 'adaptive', 'solver': 'adam'}\n",
            "Results on the test set:\n",
            "              precision    recall  f1-score   support\n",
            "\n",
            "           0       0.94      1.00      0.97     11130\n",
            "           1       0.83      0.04      0.08       699\n",
            "\n",
            "    accuracy                           0.94     11829\n",
            "   macro avg       0.89      0.52      0.53     11829\n",
            "weighted avg       0.94      0.94      0.92     11829\n",
            "\n"
          ],
          "name": "stdout"
        }
      ]
    }
  ]
}